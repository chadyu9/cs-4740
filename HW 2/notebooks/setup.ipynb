{
  "nbformat": 4,
  "nbformat_minor": 0,
  "metadata": {
    "colab": {
      "provenance": []
    },
    "kernelspec": {
      "name": "python3",
      "display_name": "Python 3"
    },
    "language_info": {
      "name": "python"
    }
  },
  "cells": [
    {
      "cell_type": "markdown",
      "source": [
        "## CS 4740 Fa'23 HW2: Named-entity recognition using FFNNs and RNNs\n",
        "\n",
        "CS 4740/CS 5740/COGST 4740/LING 4474, fall 2023\n",
        "\n",
        "No part (code, documentation, comments, etc.) of this notebook or any assignment-related artefacts were generated/created, refined, or modified using generative AI tools such as Chat GPT. Cite this notebook as:\n",
        "> Tushaar Gangavarapu, Pun Chaixanien<sup>&lowast;</sup>, Kai Horstmann<sup>&lowast;</sup>, Dave Jung<sup>&lowast;</sup>, Aaishi Uppuluri<sup>&lowast;</sup>, Lillian Lee, Darren Key<sup> &int;</sup>, Logan Kraver<sup> &int;</sup>, Lionel Tan<sup> &int;</sup>. 2023. CS 4740 Fa'23 HW2: Named-entity recognition using FFNNs and RNNs. GitHub. https://github.coecis.cornell.edu/cs4740-fa23-public/hw2-fa23/. <br/>\n",
        "> &nbsp;&nbsp;&nbsp;&nbsp;<sup>&lowast;</sup>equal contribution, software creators, ordered alphabetically<br/>\n",
        "> &nbsp;&nbsp;&nbsp;&nbsp;<sup>&int;</sup>equal contribution, software testers, ordered alphabetically<br/>\n",
        "\n",
        "_Note: This notebook (so creatively named \"setup.ipynb\") is only for setting up the tools needed for HW2; details specific to the contents of the assignment can be accessed in the dedicated [HW2 notebook file](https://github.coecis.cornell.edu/cs4740-fa23-public/hw2-fa23/blob/main/notebooks/hw2.ipynb)._"
      ],
      "metadata": {
        "id": "7R8wtChH8y6m"
      }
    },
    {
      "cell_type": "markdown",
      "source": [
        "---\n",
        "\n",
        "### GitHub and package setup\n",
        "\n",
        "<div align=\"center\">\n",
        "    <img src='https://imgs.xkcd.com/comics/installing.png'/>\n",
        "    <br/>\n",
        "    Source: <a href=\"https://xkcd.com/1367/\">xkcd: Installing</a>\n",
        "</div>\n",
        "\n",
        "<br/>\n",
        "\n",
        "This notebook will help you setup the modules needed for HW2 assignment in just three simple steps! We will be using Google Colab<a name=\"footnote1\"></a>[<sup>[1]</sup>](#colab) for experimentation and GitHub for version control management. What does this mean for _you_?: you'll be able to use free GPUs provided by Google Colab to train your models, and you'll be able to run \"git\" commands to check for any code updates made by the course staff.\n",
        "\n",
        "For those unfamiliar with Google Colab and/or GitHub, here are a few helpful resources:\n",
        "* Colab welcome notes: https://colab.research.google.com, includes notes on how to access Colab GPUs\n",
        "* GitHub personal access tokens: https://docs.github.com/en/authentication/keeping-your-account-and-data-secure/managing-your-personal-access-tokens (you'll need one!)\n",
        "\n",
        "\n",
        "<font color='red'>You are __not__ required to modify the contents of this file.</font>\n",
        "\n",
        "> <a name=\"colab\"></a><sup>[1] </sup>We strongly recommend using Google Colab. However, if you run out of GPU cycles and wish to run the assignment locally, or on some accessible server, we provide local installation instructions in the [README.md](https://github.coecis.cornell.edu/cs4740-fa23-public/hw2-fa23#readme) file of the repository. [↩︎](#footnote1)"
      ],
      "metadata": {
        "id": "4d7b5vdN5KaF"
      }
    },
    {
      "cell_type": "markdown",
      "source": [
        "#### Step-1: Google Drive!\n",
        "\n",
        "First, let's mount your Google Drive and make (and enter!) a new directory in the drive named \"CS4740\" (if a directory with the same name exists, we will skip the directory creation)."
      ],
      "metadata": {
        "id": "V6mqOUNf55BC"
      }
    },
    {
      "cell_type": "code",
      "source": [
        "from google.colab import drive\n",
        "drive.mount(\"/content/drive\")\n",
        "\n",
        "%cd -q \"/content/drive/MyDrive\"\n",
        "!if [ ! -d \"CS4740\" ]; then mkdir \"CS4740\"; fi\n",
        "%cd \"CS4740\""
      ],
      "metadata": {
        "id": "u052axav9O_I"
      },
      "execution_count": null,
      "outputs": []
    },
    {
      "cell_type": "markdown",
      "source": [
        "#### Step-2: Setting up GitHub\n",
        "\n",
        "To be able to access the HW repository (via git commands) you will need to setup a personal access token. Instructions on setting up a personal access token are accessible at: https://docs.github.com/en/authentication/keeping-your-account-and-data-secure/managing-your-personal-access-tokens. A few things to note here:\n",
        "* make sure to set the expiration of the token to after December 20, 2023, and\n",
        "* when you select the _scope_ of your token, you can choose the \"repo\" scope.\n",
        "\n",
        "Once you have secured your personal access token, run the following cell, which will (discreetly) ask for your token—feed your token in and press enter! The personal access token is stored for any future use at: `CS4740/environment_variables.sh`; please do __not__ manually edit/modify this file."
      ],
      "metadata": {
        "id": "c3Kmi66I8zjf"
      }
    },
    {
      "cell_type": "code",
      "source": [
        "%%shell\n",
        "read -rsp \"Enter your personal access token: \" PERSONAL_ACCESS_TOKEN\n",
        "echo\n",
        "\n",
        "if [[ -z $PERSONAL_ACCESS_TOKEN ]]; then\n",
        "    echo -e \"\\033[91mPERSONAL_ACCESS_TOKEN not set\"\n",
        "else\n",
        "    echo \"export PERSONAL_ACCESS_TOKEN=\\\"$PERSONAL_ACCESS_TOKEN\\\"\" > environment_variables.sh\n",
        "    echo -e \"\\033[92mPERSONAL_ACCESS_TOKEN registered!\"\n",
        "fi"
      ],
      "metadata": {
        "id": "iQ7ZE9UA9Q8c"
      },
      "execution_count": null,
      "outputs": []
    },
    {
      "cell_type": "markdown",
      "source": [
        "#### Step-3: Onwards and upwards\n",
        "\n",
        "<font color=\"red\">If you're working with a partner, __only one of you__ has to run the following cell.</font> For the partner running the cell below, the following code will \"git clone\" the HW2 repository into your local drive under `CS4740`. Once the following cell completes running, you will have HW2 repository in your drive folder!\n",
        "\n",
        "Please be sure to share the cloned drive folder `CS4740/hw2-fa23` (__not__ `CS4740`) with your partner. The partner (that didn't clone the repository) has to then add a shortcut of the shared folder to their own drive under \"My Drive\" (under \"All locations\") → \"CS4740\". See https://support.google.com/drive/answer/9700156 on how to add a shortcut to a folder in drive."
      ],
      "metadata": {
        "id": "V4YjQgGYC3Qe"
      }
    },
    {
      "cell_type": "code",
      "source": [
        "%%bash\n",
        "source ./environment_variables.sh\n",
        "if [[ -z $PERSONAL_ACCESS_TOKEN ]]; then\n",
        "    echo -e \"\\033[91mPERSONAL_ACCESS_TOKEN not set\"\n",
        "else\n",
        "    org=\"cs4740-fa23-public\"\n",
        "    repo=\"hw2-fa23\"\n",
        "    if [ ! -d $repo ]; then\n",
        "        git clone https://\"$PERSONAL_ACCESS_TOKEN\"@github.coecis.cornell.edu/$org/$repo.git\n",
        "    fi\n",
        "fi"
      ],
      "metadata": {
        "id": "V5gewWcf-Hff"
      },
      "execution_count": null,
      "outputs": []
    },
    {
      "cell_type": "markdown",
      "source": [
        "Done and done!: run the following cell to make sure everything is setup as needed; once completed [= runs without errors] proceed to [HW2 notebook file](https://github.coecis.cornell.edu/cs4740-fa23-public/hw2-fa23/blob/main/notebooks/hw2.ipynb)—you can open this directly in Google Colab from your drive `CS4740/hw2-fa23/notebooks/hw2.ipynb`."
      ],
      "metadata": {
        "id": "7H6R6W_bku34"
      }
    },
    {
      "cell_type": "code",
      "source": [
        "import os\n",
        "\n",
        "from IPython.display import HTML, display\n",
        "\n",
        "if os.path.isdir(\"hw2-fa23\"):\n",
        "    print(\"\\033[92mSetup successful!\\n\")\n",
        "    display(HTML(\"\"\"<img src=\"https://media.giphy.com/media/3oEdv6UTqzNk9Y5i36/giphy.gif\"/>\"\"\"))\n",
        "else:\n",
        "    print(\"\\033[91mSomething failed, please retrace your steps ...\")"
      ],
      "metadata": {
        "id": "lx5KzUFmkuBx"
      },
      "execution_count": null,
      "outputs": []
    },
    {
      "cell_type": "code",
      "source": [],
      "metadata": {
        "id": "QdOgPcHEjhwI"
      },
      "execution_count": null,
      "outputs": []
    }
  ]
}